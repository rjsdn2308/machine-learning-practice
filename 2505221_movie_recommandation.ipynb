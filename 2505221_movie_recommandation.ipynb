{
  "nbformat": 4,
  "nbformat_minor": 0,
  "metadata": {
    "colab": {
      "provenance": [],
      "include_colab_link": true
    },
    "kernelspec": {
      "name": "python3",
      "display_name": "Python 3"
    },
    "language_info": {
      "name": "python"
    }
  },
  "cells": [
    {
      "cell_type": "markdown",
      "metadata": {
        "id": "view-in-github",
        "colab_type": "text"
      },
      "source": [
        "<a href=\"https://colab.research.google.com/github/rjsdn2308/machine-learning-practice/blob/main/2505221_movie_recommandation.ipynb\" target=\"_parent\"><img src=\"https://colab.research.google.com/assets/colab-badge.svg\" alt=\"Open In Colab\"/></a>"
      ]
    },
    {
      "cell_type": "markdown",
      "source": [
        "# Movie Lens Dataset Recommandation\n",
        "\n",
        "600명의 사용자가 9,000편의 영화에 10만 건의 평점과 3,600건의 태그를 적용한 데이터셋\n",
        "\n",
        "- rating (이번 추천 알고리즘에 사용)\n",
        "- movies\n",
        "- links\n",
        "- tags"
      ],
      "metadata": {
        "id": "0TBHbjmaOmhQ"
      }
    },
    {
      "cell_type": "markdown",
      "source": [
        "## 라이브러리 불러오기"
      ],
      "metadata": {
        "id": "5lAU6b09Owig"
      }
    },
    {
      "cell_type": "code",
      "execution_count": 4,
      "metadata": {
        "id": "hBFePj70N5xX"
      },
      "outputs": [],
      "source": [
        "import pandas as pd\n",
        "from sklearn.model_selection import train_test_split\n",
        "from sklearn.metrics.pairwise import cosine_similarity\n",
        "from sklearn.metrics import mean_squared_error\n",
        "import numpy as np"
      ]
    },
    {
      "cell_type": "markdown",
      "source": [
        "## 데이터 불러오기 및 확인"
      ],
      "metadata": {
        "id": "AkVE8TbhOzD_"
      }
    },
    {
      "cell_type": "code",
      "source": [
        "# 평점\n",
        "ratings = pd.read_csv('/content/drive/MyDrive/2025-1/ml/machine-learning-practice/data/movielens/ratings.csv')\n",
        "ratings_with_datatime = ratings.copy()\n",
        "ratings_with_datatime['date'] = pd.to_datetime(ratings_with_datatime['timestamp'], unit='s')\n",
        "ratings_with_datatime.head()"
      ],
      "metadata": {
        "colab": {
          "base_uri": "https://localhost:8080/",
          "height": 356
        },
        "id": "B8Ed6hzMOEy-",
        "outputId": "bf36556a-5576-4bc3-a58a-6e76d9c7cab3"
      },
      "execution_count": 5,
      "outputs": [
        {
          "output_type": "error",
          "ename": "FileNotFoundError",
          "evalue": "[Errno 2] No such file or directory: '/content/drive/MyDrive/2025-1/ml/machine-learning-practice/data/movielens/ratings.csv'",
          "traceback": [
            "\u001b[0;31m---------------------------------------------------------------------------\u001b[0m",
            "\u001b[0;31mFileNotFoundError\u001b[0m                         Traceback (most recent call last)",
            "\u001b[0;32m<ipython-input-5-54fd23a182b7>\u001b[0m in \u001b[0;36m<cell line: 0>\u001b[0;34m()\u001b[0m\n\u001b[1;32m      1\u001b[0m \u001b[0;31m# 평점\u001b[0m\u001b[0;34m\u001b[0m\u001b[0;34m\u001b[0m\u001b[0m\n\u001b[0;32m----> 2\u001b[0;31m \u001b[0mratings\u001b[0m \u001b[0;34m=\u001b[0m \u001b[0mpd\u001b[0m\u001b[0;34m.\u001b[0m\u001b[0mread_csv\u001b[0m\u001b[0;34m(\u001b[0m\u001b[0;34m'/content/drive/MyDrive/2025-1/ml/machine-learning-practice/data/movielens/ratings.csv'\u001b[0m\u001b[0;34m)\u001b[0m\u001b[0;34m\u001b[0m\u001b[0;34m\u001b[0m\u001b[0m\n\u001b[0m\u001b[1;32m      3\u001b[0m \u001b[0mratings_with_datatime\u001b[0m \u001b[0;34m=\u001b[0m \u001b[0mratings\u001b[0m\u001b[0;34m.\u001b[0m\u001b[0mcopy\u001b[0m\u001b[0;34m(\u001b[0m\u001b[0;34m)\u001b[0m\u001b[0;34m\u001b[0m\u001b[0;34m\u001b[0m\u001b[0m\n\u001b[1;32m      4\u001b[0m \u001b[0mratings_with_datatime\u001b[0m\u001b[0;34m[\u001b[0m\u001b[0;34m'date'\u001b[0m\u001b[0;34m]\u001b[0m \u001b[0;34m=\u001b[0m \u001b[0mpd\u001b[0m\u001b[0;34m.\u001b[0m\u001b[0mto_datetime\u001b[0m\u001b[0;34m(\u001b[0m\u001b[0mratings_with_datatime\u001b[0m\u001b[0;34m[\u001b[0m\u001b[0;34m'timestamp'\u001b[0m\u001b[0;34m]\u001b[0m\u001b[0;34m,\u001b[0m \u001b[0munit\u001b[0m\u001b[0;34m=\u001b[0m\u001b[0;34m's'\u001b[0m\u001b[0;34m)\u001b[0m\u001b[0;34m\u001b[0m\u001b[0;34m\u001b[0m\u001b[0m\n\u001b[1;32m      5\u001b[0m \u001b[0mratings_with_datatime\u001b[0m\u001b[0;34m.\u001b[0m\u001b[0mhead\u001b[0m\u001b[0;34m(\u001b[0m\u001b[0;34m)\u001b[0m\u001b[0;34m\u001b[0m\u001b[0;34m\u001b[0m\u001b[0m\n",
            "\u001b[0;32m/usr/local/lib/python3.11/dist-packages/pandas/io/parsers/readers.py\u001b[0m in \u001b[0;36mread_csv\u001b[0;34m(filepath_or_buffer, sep, delimiter, header, names, index_col, usecols, dtype, engine, converters, true_values, false_values, skipinitialspace, skiprows, skipfooter, nrows, na_values, keep_default_na, na_filter, verbose, skip_blank_lines, parse_dates, infer_datetime_format, keep_date_col, date_parser, date_format, dayfirst, cache_dates, iterator, chunksize, compression, thousands, decimal, lineterminator, quotechar, quoting, doublequote, escapechar, comment, encoding, encoding_errors, dialect, on_bad_lines, delim_whitespace, low_memory, memory_map, float_precision, storage_options, dtype_backend)\u001b[0m\n\u001b[1;32m   1024\u001b[0m     \u001b[0mkwds\u001b[0m\u001b[0;34m.\u001b[0m\u001b[0mupdate\u001b[0m\u001b[0;34m(\u001b[0m\u001b[0mkwds_defaults\u001b[0m\u001b[0;34m)\u001b[0m\u001b[0;34m\u001b[0m\u001b[0;34m\u001b[0m\u001b[0m\n\u001b[1;32m   1025\u001b[0m \u001b[0;34m\u001b[0m\u001b[0m\n\u001b[0;32m-> 1026\u001b[0;31m     \u001b[0;32mreturn\u001b[0m \u001b[0m_read\u001b[0m\u001b[0;34m(\u001b[0m\u001b[0mfilepath_or_buffer\u001b[0m\u001b[0;34m,\u001b[0m \u001b[0mkwds\u001b[0m\u001b[0;34m)\u001b[0m\u001b[0;34m\u001b[0m\u001b[0;34m\u001b[0m\u001b[0m\n\u001b[0m\u001b[1;32m   1027\u001b[0m \u001b[0;34m\u001b[0m\u001b[0m\n\u001b[1;32m   1028\u001b[0m \u001b[0;34m\u001b[0m\u001b[0m\n",
            "\u001b[0;32m/usr/local/lib/python3.11/dist-packages/pandas/io/parsers/readers.py\u001b[0m in \u001b[0;36m_read\u001b[0;34m(filepath_or_buffer, kwds)\u001b[0m\n\u001b[1;32m    618\u001b[0m \u001b[0;34m\u001b[0m\u001b[0m\n\u001b[1;32m    619\u001b[0m     \u001b[0;31m# Create the parser.\u001b[0m\u001b[0;34m\u001b[0m\u001b[0;34m\u001b[0m\u001b[0m\n\u001b[0;32m--> 620\u001b[0;31m     \u001b[0mparser\u001b[0m \u001b[0;34m=\u001b[0m \u001b[0mTextFileReader\u001b[0m\u001b[0;34m(\u001b[0m\u001b[0mfilepath_or_buffer\u001b[0m\u001b[0;34m,\u001b[0m \u001b[0;34m**\u001b[0m\u001b[0mkwds\u001b[0m\u001b[0;34m)\u001b[0m\u001b[0;34m\u001b[0m\u001b[0;34m\u001b[0m\u001b[0m\n\u001b[0m\u001b[1;32m    621\u001b[0m \u001b[0;34m\u001b[0m\u001b[0m\n\u001b[1;32m    622\u001b[0m     \u001b[0;32mif\u001b[0m \u001b[0mchunksize\u001b[0m \u001b[0;32mor\u001b[0m \u001b[0miterator\u001b[0m\u001b[0;34m:\u001b[0m\u001b[0;34m\u001b[0m\u001b[0;34m\u001b[0m\u001b[0m\n",
            "\u001b[0;32m/usr/local/lib/python3.11/dist-packages/pandas/io/parsers/readers.py\u001b[0m in \u001b[0;36m__init__\u001b[0;34m(self, f, engine, **kwds)\u001b[0m\n\u001b[1;32m   1618\u001b[0m \u001b[0;34m\u001b[0m\u001b[0m\n\u001b[1;32m   1619\u001b[0m         \u001b[0mself\u001b[0m\u001b[0;34m.\u001b[0m\u001b[0mhandles\u001b[0m\u001b[0;34m:\u001b[0m \u001b[0mIOHandles\u001b[0m \u001b[0;34m|\u001b[0m \u001b[0;32mNone\u001b[0m \u001b[0;34m=\u001b[0m \u001b[0;32mNone\u001b[0m\u001b[0;34m\u001b[0m\u001b[0;34m\u001b[0m\u001b[0m\n\u001b[0;32m-> 1620\u001b[0;31m         \u001b[0mself\u001b[0m\u001b[0;34m.\u001b[0m\u001b[0m_engine\u001b[0m \u001b[0;34m=\u001b[0m \u001b[0mself\u001b[0m\u001b[0;34m.\u001b[0m\u001b[0m_make_engine\u001b[0m\u001b[0;34m(\u001b[0m\u001b[0mf\u001b[0m\u001b[0;34m,\u001b[0m \u001b[0mself\u001b[0m\u001b[0;34m.\u001b[0m\u001b[0mengine\u001b[0m\u001b[0;34m)\u001b[0m\u001b[0;34m\u001b[0m\u001b[0;34m\u001b[0m\u001b[0m\n\u001b[0m\u001b[1;32m   1621\u001b[0m \u001b[0;34m\u001b[0m\u001b[0m\n\u001b[1;32m   1622\u001b[0m     \u001b[0;32mdef\u001b[0m \u001b[0mclose\u001b[0m\u001b[0;34m(\u001b[0m\u001b[0mself\u001b[0m\u001b[0;34m)\u001b[0m \u001b[0;34m->\u001b[0m \u001b[0;32mNone\u001b[0m\u001b[0;34m:\u001b[0m\u001b[0;34m\u001b[0m\u001b[0;34m\u001b[0m\u001b[0m\n",
            "\u001b[0;32m/usr/local/lib/python3.11/dist-packages/pandas/io/parsers/readers.py\u001b[0m in \u001b[0;36m_make_engine\u001b[0;34m(self, f, engine)\u001b[0m\n\u001b[1;32m   1878\u001b[0m                 \u001b[0;32mif\u001b[0m \u001b[0;34m\"b\"\u001b[0m \u001b[0;32mnot\u001b[0m \u001b[0;32min\u001b[0m \u001b[0mmode\u001b[0m\u001b[0;34m:\u001b[0m\u001b[0;34m\u001b[0m\u001b[0;34m\u001b[0m\u001b[0m\n\u001b[1;32m   1879\u001b[0m                     \u001b[0mmode\u001b[0m \u001b[0;34m+=\u001b[0m \u001b[0;34m\"b\"\u001b[0m\u001b[0;34m\u001b[0m\u001b[0;34m\u001b[0m\u001b[0m\n\u001b[0;32m-> 1880\u001b[0;31m             self.handles = get_handle(\n\u001b[0m\u001b[1;32m   1881\u001b[0m                 \u001b[0mf\u001b[0m\u001b[0;34m,\u001b[0m\u001b[0;34m\u001b[0m\u001b[0;34m\u001b[0m\u001b[0m\n\u001b[1;32m   1882\u001b[0m                 \u001b[0mmode\u001b[0m\u001b[0;34m,\u001b[0m\u001b[0;34m\u001b[0m\u001b[0;34m\u001b[0m\u001b[0m\n",
            "\u001b[0;32m/usr/local/lib/python3.11/dist-packages/pandas/io/common.py\u001b[0m in \u001b[0;36mget_handle\u001b[0;34m(path_or_buf, mode, encoding, compression, memory_map, is_text, errors, storage_options)\u001b[0m\n\u001b[1;32m    871\u001b[0m         \u001b[0;32mif\u001b[0m \u001b[0mioargs\u001b[0m\u001b[0;34m.\u001b[0m\u001b[0mencoding\u001b[0m \u001b[0;32mand\u001b[0m \u001b[0;34m\"b\"\u001b[0m \u001b[0;32mnot\u001b[0m \u001b[0;32min\u001b[0m \u001b[0mioargs\u001b[0m\u001b[0;34m.\u001b[0m\u001b[0mmode\u001b[0m\u001b[0;34m:\u001b[0m\u001b[0;34m\u001b[0m\u001b[0;34m\u001b[0m\u001b[0m\n\u001b[1;32m    872\u001b[0m             \u001b[0;31m# Encoding\u001b[0m\u001b[0;34m\u001b[0m\u001b[0;34m\u001b[0m\u001b[0m\n\u001b[0;32m--> 873\u001b[0;31m             handle = open(\n\u001b[0m\u001b[1;32m    874\u001b[0m                 \u001b[0mhandle\u001b[0m\u001b[0;34m,\u001b[0m\u001b[0;34m\u001b[0m\u001b[0;34m\u001b[0m\u001b[0m\n\u001b[1;32m    875\u001b[0m                 \u001b[0mioargs\u001b[0m\u001b[0;34m.\u001b[0m\u001b[0mmode\u001b[0m\u001b[0;34m,\u001b[0m\u001b[0;34m\u001b[0m\u001b[0;34m\u001b[0m\u001b[0m\n",
            "\u001b[0;31mFileNotFoundError\u001b[0m: [Errno 2] No such file or directory: '/content/drive/MyDrive/2025-1/ml/machine-learning-practice/data/movielens/ratings.csv'"
          ]
        }
      ]
    },
    {
      "cell_type": "code",
      "source": [
        "tags = pd.read_csv('/content/drive/MyDrive/2025-1/ml/machine-learning-practice/data/movielens/tags.csv')\n",
        "tags_with_datatime = tags.copy()\n",
        "tags_with_datatime['date'] = pd.to_datetime(tags_with_datatime['timestamp'], unit='s')\n",
        "tags_with_datatime.head()"
      ],
      "metadata": {
        "id": "x0bwWLXTQE3U"
      },
      "execution_count": null,
      "outputs": []
    },
    {
      "cell_type": "code",
      "source": [
        "links = pd.read_csv('/content/drive/MyDrive/2025-1/ml/machine-learning-practice/data/movielens/links.csv')\n",
        "links.head()"
      ],
      "metadata": {
        "id": "FdIoJ092QUPl"
      },
      "execution_count": null,
      "outputs": []
    },
    {
      "cell_type": "code",
      "source": [
        "movies = pd.read_csv('/content/drive/MyDrive/2025-1/ml/machine-learning-practice/data/movielens/movies.csv')\n",
        "movies.head()"
      ],
      "metadata": {
        "id": "KQcYNAZXQa68"
      },
      "execution_count": null,
      "outputs": []
    },
    {
      "cell_type": "code",
      "source": [
        "#movieId = 60756 이거나 89774인 movies data 출력\n",
        "movie_id = [60756, 89774]\n",
        "movies[movies['movieId'].isin(movie_id)]"
      ],
      "metadata": {
        "id": "ptH8L5IrQiWP"
      },
      "execution_count": null,
      "outputs": []
    },
    {
      "cell_type": "code",
      "source": [
        "train_data, test_data = train_test_split(ratings, test_size=0.2, random_state=42)\n",
        "train_data"
      ],
      "metadata": {
        "id": "EvZwswC3Odom"
      },
      "execution_count": null,
      "outputs": []
    },
    {
      "cell_type": "code",
      "source": [
        "from google.colab import drive\n",
        "drive.mount('/content/drive')"
      ],
      "metadata": {
        "id": "cuh7yoQsPXU7"
      },
      "execution_count": null,
      "outputs": []
    },
    {
      "cell_type": "code",
      "source": [
        "# 사용자-아이템 행렬 생성\n",
        "train_matrix = train_data.pivot(index='userId', columns='movieId', values='rating')\n",
        "test_matrix = test_data.pivot(index='userId', columns='movieId', values='rating')\n",
        "train_matrix"
      ],
      "metadata": {
        "id": "FJO3LIPSYILP"
      },
      "execution_count": null,
      "outputs": []
    },
    {
      "cell_type": "markdown",
      "source": [
        "### 결측값 처리\n",
        "- 평점이 없는 경우 0으로 처리"
      ],
      "metadata": {
        "id": "xFpDlYwl8VSv"
      }
    },
    {
      "cell_type": "code",
      "source": [
        "train_matrix = train_matrix.fillna(0)\n",
        "test_matrix = test_matrix.fillna(0)\n",
        "train_matrix"
      ],
      "metadata": {
        "id": "bFQmSRdOYs25"
      },
      "execution_count": null,
      "outputs": []
    },
    {
      "cell_type": "markdown",
      "source": [
        "## 사용자 기반 협업 필터링"
      ],
      "metadata": {
        "id": "ur8gRzUQar8f"
      }
    },
    {
      "cell_type": "code",
      "source": [
        "# 사용자 유사도\n",
        "user_similarity = cosine_similarity(train_matrix)  # 사용자 간 코사인 유사도 계산\n",
        "user_similarity = pd.DataFrame(user_similarity, index=train_matrix.index, columns=train_matrix.index)\n",
        "user_similarity"
      ],
      "metadata": {
        "id": "q3k56hgXaNFg"
      },
      "execution_count": null,
      "outputs": []
    },
    {
      "cell_type": "code",
      "source": [
        "def predict_user_based_cf(user_id, movie_id):\n",
        "    # 유사도와 평점을 기반으로 예측\n",
        "    if movie_id not in train_matrix.columns:\n",
        "        return 0  # 영화가 훈련 데이터에 없으면 0 반환\n",
        "    similar_users = user_similarity[user_id]\n",
        "    ratings = train_matrix[movie_id]\n",
        "    weighted_sum = np.dot(similar_users, ratings)\n",
        "    similarity_sum = np.sum(similar_users[ratings > 0])\n",
        "    if similarity_sum == 0:\n",
        "        return 0\n",
        "    return weighted_sum / similarity_sum"
      ],
      "metadata": {
        "id": "ywA2mvYHY1Rn"
      },
      "execution_count": null,
      "outputs": []
    },
    {
      "cell_type": "code",
      "source": [
        "user_based_predictions = []\n",
        "for user_id, movie_id, rating in test_data[['userId', 'movieId', 'rating']].values:\n",
        "    pred = predict_user_based_cf(user_id, movie_id)\n",
        "    user_based_predictions.append(pred)"
      ],
      "metadata": {
        "id": "3q9eJ6-zawB2"
      },
      "execution_count": null,
      "outputs": []
    },
    {
      "cell_type": "code",
      "source": [
        "from re import T\n",
        "train_matrix[movie_id[1]]\n",
        "# 이중에서 값이 0이 아닌것만 출력\n",
        "series = train_matrix[movie_id[1]][train_matrix[movie_id[1]] > 0]\n",
        "series"
      ],
      "metadata": {
        "id": "Q3nIm4d6CL3E"
      },
      "execution_count": null,
      "outputs": []
    },
    {
      "cell_type": "markdown",
      "source": [
        "user_id 103번과 495는 복싱영화의 평점을 높게 평가"
      ],
      "metadata": {
        "id": "x-NYewdsCl2r"
      }
    },
    {
      "cell_type": "code",
      "source": [
        "user_id = 103 # 사용자 ID 103번\n",
        "pred_movie_id = movie_id[0]  # 영화 ID 60756\n",
        "predicted_rating = predict_user_based_cf(user_id, pred_movie_id)\n",
        "\n",
        "print(f\"{user_id}번 사용자의 영화번호 {pred_movie_id}번의 평점 예측: {predicted_rating:.2f}\")"
      ],
      "metadata": {
        "id": "dEs0mEOCBeWP"
      },
      "execution_count": null,
      "outputs": []
    },
    {
      "cell_type": "code",
      "source": [
        "user_based_rmse = np.sqrt(mean_squared_error(test_data['rating'], user_based_predictions))\n",
        "print(f\"사용자 기반 협업 필터링 RMSE: {user_based_rmse:.4f}\")"
      ],
      "metadata": {
        "id": "w7nUg3_7DjDB"
      },
      "execution_count": null,
      "outputs": []
    },
    {
      "cell_type": "markdown",
      "source": [
        "## 아이템 기반 협업 필터링"
      ],
      "metadata": {
        "id": "N9RQXyT7DzCE"
      }
    },
    {
      "cell_type": "code",
      "source": [
        "item_similarity = cosine_similarity(train_matrix.T)  # 아이템 간 코사인 유사도 계산\n",
        "item_similarity = pd.DataFrame(item_similarity, index=train_matrix.columns, columns=train_matrix.columns)\n",
        "item_similarity"
      ],
      "metadata": {
        "id": "jeD1KQrbD0gU"
      },
      "execution_count": null,
      "outputs": []
    },
    {
      "cell_type": "code",
      "source": [
        "def predict_item_based(user_id, movie_id):\n",
        "    # 유사도와 평점을 기반으로 예측\n",
        "    if movie_id not in train_matrix.columns:\n",
        "        return 0  # 영화가 훈련 데이터에 없으면 0 반환\n",
        "    similar_items = item_similarity[movie_id]\n",
        "    user_ratings = train_matrix.loc[user_id]\n",
        "    weighted_sum = np.dot(similar_items, user_ratings)\n",
        "    similarity_sum = np.sum(similar_items[user_ratings > 0])\n",
        "    if similarity_sum == 0:\n",
        "        return 0\n",
        "    return weighted_sum / similarity_sum"
      ],
      "metadata": {
        "id": "V0VFTQlsEIqC"
      },
      "execution_count": null,
      "outputs": []
    },
    {
      "cell_type": "code",
      "source": [
        "train_matrix.loc[user_id]"
      ],
      "metadata": {
        "id": "ZgvOZfnMESs1"
      },
      "execution_count": null,
      "outputs": []
    },
    {
      "cell_type": "code",
      "source": [
        "item_based_predictions = []\n",
        "for user_id, movie_id, rating in test_data[['userId', 'movieId', 'rating']].values:\n",
        "    pred = predict_item_based(user_id, pred_movie_id)\n",
        "    item_based_predictions.append(pred)"
      ],
      "metadata": {
        "id": "oPA4S0AUE1DM"
      },
      "execution_count": null,
      "outputs": []
    },
    {
      "cell_type": "code",
      "source": [
        "print(f\"{user_id}번 사용자의 영화번호 {pred_movie_id}번의 평점 예측: {predicted_rating:.2f}\")"
      ],
      "metadata": {
        "id": "0OCBJKo2E9oy"
      },
      "execution_count": null,
      "outputs": []
    },
    {
      "cell_type": "code",
      "source": [
        "item_based_rmse = np.sqrt(mean_squared_error(test_data['rating'], item_based_predictions))\n",
        "print(f\"아이템 기반 협업 필터링 RMSE: {item_based_rmse:.4f}\")"
      ],
      "metadata": {
        "id": "jikjzmkPFL7S"
      },
      "execution_count": null,
      "outputs": []
    },
    {
      "cell_type": "markdown",
      "source": [
        "## 성능 비교"
      ],
      "metadata": {
        "id": "w-3DTbUZDZa4"
      }
    },
    {
      "cell_type": "code",
      "source": [
        "print(f\"사용자 기반 협업 필터링 RMSE: {user_based_rmse:.4f}\")\n",
        "print(f\"아이템 기반 협업 필터링 RMSE: {item_based_rmse:.4f}\")"
      ],
      "metadata": {
        "id": "kBanWSmsDUz8"
      },
      "execution_count": null,
      "outputs": []
    },
    {
      "cell_type": "markdown",
      "source": [
        "확인문제 1 : 60756번 영화를 본 사용자 중에 1명을 찾아서 해당 사용자의 89774번 영화의 평점을 예측하세요"
      ],
      "metadata": {
        "id": "Oz102vz4JZQ9"
      }
    },
    {
      "cell_type": "markdown",
      "source": [
        "확인문제 2 : 위 성능 비교 했을 때 사용자 기반과 아이템 기반 중 더 좋은 성능을 나타내는 방법을 쓰세요\n",
        "- 사용자 기반보다 아이템 기반이 더 평점 예측이 더 정확하다고 볼 수 있습니다. 그 이유는 아이템 기반 협업 필터링이 사용자 기반 협업 필터링보다 평점 예측에서 더 정확하기 때문입니다.\n"
      ],
      "metadata": {
        "id": "pOr4sg5eFjFV"
      }
    },
    {
      "cell_type": "code",
      "source": [
        "user_id = 1\n",
        "pred_movie_id = movie_id[0]  # 영화 ID 60756\n",
        "predicted_rating = predict_user_based_cf(user_id, pred_movie_id)\n",
        "\n",
        "print(f\"{user_id}번 사용자의 영화번호 {pred_movie_id}번의 평점 예측: {predicted_rating:.2f}\")"
      ],
      "metadata": {
        "id": "fepLC4BOMYto"
      },
      "execution_count": null,
      "outputs": []
    },
    {
      "cell_type": "code",
      "source": [],
      "metadata": {
        "id": "oFhq_VoLNUga"
      },
      "execution_count": null,
      "outputs": []
    }
  ]
}